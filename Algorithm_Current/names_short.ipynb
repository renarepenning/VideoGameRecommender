{
  "nbformat": 4,
  "nbformat_minor": 0,
  "metadata": {
    "colab": {
      "name": "names_short.ipynb",
      "provenance": [],
      "collapsed_sections": []
    },
    "kernelspec": {
      "name": "python3",
      "display_name": "Python 3"
    },
    "language_info": {
      "name": "python"
    }
  },
  "cells": [
    {
      "cell_type": "code",
      "execution_count": 5,
      "metadata": {
        "id": "IrW-FdPlUI3u"
      },
      "outputs": [],
      "source": [
        "import pandas as pd\n",
        "\n",
        "games = pd.read_csv(\"/small_IGDB_games copy.csv\")\n",
        "\n",
        "names = games[\"name\"].tolist()\n",
        "df = pd.DataFrame(names)\n",
        "df.to_csv('names_short.csv') "
      ]
    }
  ]
}