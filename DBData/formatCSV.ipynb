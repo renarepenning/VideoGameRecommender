{
 "cells": [
  {
   "cell_type": "code",
   "execution_count": 2,
   "metadata": {},
   "outputs": [],
   "source": [
    "#\n",
    "# importing packages\n",
    "import pandas as pd"
   ]
  },
  {
   "cell_type": "code",
   "execution_count": 334,
   "metadata": {},
   "outputs": [],
   "source": [
    "\"\"\"GENRES\"\"\"\n",
    "# read csv\n",
    "genres = pd.read_csv(\"gameid_gamegenres.csv\",names=['games'])\n",
    "# extract the id number\n",
    "genres['id']=genres['games'].str.extract(r'{id: (\\w{1,})')\n",
    "# extract the list of themes\n",
    "genres['genres']=genres['games'].str.extract(r'genres: \\[(.*)]}')\n",
    "# drop old column\n",
    "genres.drop(columns=['games'], inplace=True)\n",
    "# split the list into strings\n",
    "genres['genres'] = genres['genres'].str.split(', ')\n",
    "# convert the stings to int, fill na with [0]\n",
    "genres['genres'] = genres['genres'].apply(lambda d: d if isinstance(d, list) else [0])\n",
    "\n",
    "# explode the df to make each id and genre pair its own row\n",
    "genres = genres.explode('genres')\n",
    "genres\n",
    "\n",
    "genres.to_csv('genres_final.csv')"
   ]
  },
  {
   "cell_type": "code",
   "execution_count": 335,
   "metadata": {},
   "outputs": [],
   "source": [
    "\"\"\"THEMES\"\"\"\n",
    "# read csv\n",
    "themes = pd.read_csv(\"gameid_gamethemes.csv\",names=['games'])\n",
    "# extract the id number\n",
    "themes['id']=themes['games'].str.extract(r'{id: (\\w{1,})')\n",
    "#extract the list of themes\n",
    "themes['themes']=themes['games'].str.extract(r'themes: \\[(.*)]}')\n",
    "# drop old column\n",
    "themes.drop(columns=['games'], inplace=True)\n",
    "# split the list into strings\n",
    "themes['themes'] = themes['themes'].str.split(', ')\n",
    "# convert the stings to int, fill na with [0]\n",
    "themes['themes'] = themes['themes'].apply(lambda d: d if isinstance(d, list) else [0])\n",
    "\n",
    "# explode the df to make each id and genre pair its own row\n",
    "themes = themes.explode('themes')\n",
    "themes\n",
    "\n",
    "themes.to_csv('themes_final.csv')"
   ]
  },
  {
   "cell_type": "code",
   "execution_count": 336,
   "metadata": {},
   "outputs": [],
   "source": [
    "\"\"\"Keywords\"\"\"\n",
    "# read csv\n",
    "keywords = pd.read_csv(\"gameid_gamekeywords.csv\",names=['games'])\n",
    "# extract the id number\n",
    "keywords['id']=keywords['games'].str.extract(r'{id: (\\w{1,})')\n",
    "# extract the list of keywords\n",
    "keywords['keywords']=keywords['games'].str.extract(r'keywords: \\[(.*)]}')\n",
    "# drop old column\n",
    "keywords.drop(columns=['games'], inplace=True)\n",
    "# split the list into strings\n",
    "keywords['keywords'] = keywords['keywords'].str.split(', ')\n",
    "# convert the stings to int, fill na with [0]\n",
    "keywords['keywords'] = keywords['keywords'].apply(lambda d: d if isinstance(d, list) else [0])\n",
    "\n",
    "# explode the df to make each id and genre pair its own row\n",
    "keywords = keywords.explode('keywords')\n",
    "keywords.to_csv('keywords_final.csv')"
   ]
  },
  {
   "cell_type": "code",
   "execution_count": 337,
   "metadata": {},
   "outputs": [],
   "source": [
    "\"\"\"PLATFORMS\"\"\"\n",
    "# read csv\n",
    "platforms = pd.read_csv(\"gameid_gameplatforms.csv\",names=['games'])\n",
    "# extract the id number\n",
    "platforms['id']=platforms['games'].str.extract(r'{id: (\\w{1,})')\n",
    "# extract the list of platforms\n",
    "platforms['platforms']=platforms['games'].str.extract(r'platforms: \\[(.*)]}')\n",
    "# drop old column\n",
    "platforms.drop(columns=['games'], inplace=True)\n",
    "# split the list into strings\n",
    "platforms['platforms'] = platforms['platforms'].str.split(', ')\n",
    "# conver the stings to int, fill na with [0]\n",
    "platforms['platforms'] = platforms['platforms'].apply(lambda d: d if isinstance(d, list) else [0])\n",
    "\n",
    "# explode the df to make each id and genre pair its own row\n",
    "platforms = platforms.explode('platforms')\n",
    "platforms.to_csv('platforms_final.csv')"
   ]
  },
  {
   "cell_type": "code",
   "execution_count": 14,
   "metadata": {},
   "outputs": [],
   "source": [
    "\"\"\"MODES\"\"\"\n",
    "# read csv\n",
    "modes = pd.read_csv(\"gameid_gamemode.csv\",names=['games'])\n",
    "# extract the id number\n",
    "modes['id']=modes['games'].str.extract(r'{id: (\\w{1,})')\n",
    "# extract the list of modes\n",
    "modes['modes']=modes['games'].str.extract(r'game_modes: \\[(.*)]}')\n",
    "# drop old column\n",
    "modes.drop(columns=['games'], inplace=True)\n",
    "# split the list into strings\n",
    "modes['modes'] = modes['modes'].str.split(', ')\n",
    "# convert the stings to int, fill na with [0]\n",
    "modes['modes'] = modes['modes'].apply(lambda d: d if isinstance(d, list) else [0])\n",
    "\n",
    "# explode the df to make each id and genre pair its own row\n",
    "modes = modes.explode('modes')\n",
    "modes.to_csv('modes_final.csv')"
   ]
  },
  {
   "cell_type": "code",
   "execution_count": 22,
   "metadata": {},
   "outputs": [],
   "source": [
    "\"\"\"Franchises\"\"\"\n",
    "# read csv\n",
    "franchises = pd.read_csv(\"franchises.csv\",names=['games'])\n",
    "# extract the id number\n",
    "franchises['id']=franchises['games'].str.extract(r'{id: (\\w{1,})')\n",
    "# extract the list of franchises\n",
    "franchises['franchises']=franchises['games'].str.extract(r'\\[(\\w{1,})')\n",
    "\n",
    "franchises.head(10)\n",
    "# drop old column\n",
    "franchises.drop(columns=['games'], inplace=True)\n",
    "#franchises['franchises'] = franchises['franchises'].apply(lambda d: d if isinstance(d, list) else [0])\n",
    "franchises.franchises = franchises.franchises.fillna(0)\n",
    "\n",
    "#franchises.to_csv('new_franchises.csv')\n",
    "franchises"
   ]
  },
  {
   "cell_type": "code",
   "execution_count": null,
   "metadata": {},
   "outputs": [],
   "source": [
    "\"\"\"Tags\"\"\"\n",
    "# read csv\n",
    "tags = pd.read_csv(\"indies.csv\",names=['games'])\n",
    "# extract the id number\n",
    "tags['id']=tags['games'].str.extract(r'{id: (\\w{1,})')\n",
    "# extract the list of tags\n",
    "tags['tags']=tags['games'].str.extract(r'tags: \\[(.*)]}')\n",
    "# drop old column\n",
    "tags.drop(columns=['games'], inplace=True)\n",
    "# split the list into strings\n",
    "tags['tags'] = tags['tags'].str.split(', ')\n",
    "# convert the stings to int, fill na with [0]\n",
    "tags['tags'] = tags['tags'].apply(lambda d: d if isinstance(d, list) else [0])\n",
    "\n",
    "# explode the df to make each id and genre pair its own row\n",
    "tags = tags.explode('tags')\n",
    "tags.to_csv('tags_final.csv')"
   ]
  }
 ],
 "metadata": {
  "interpreter": {
   "hash": "6bb71492d7fdda0cd4eb2c457d6851b4388ecd7abb9cf5650ba8dfe4080f7402"
  },
  "kernelspec": {
   "display_name": "Python 3.10.2 ('VideoGameRecommender-3EhdDuLs')",
   "language": "python",
   "name": "python3"
  },
  "language_info": {
   "codemirror_mode": {
    "name": "ipython",
    "version": 3
   },
   "file_extension": ".py",
   "mimetype": "text/x-python",
   "name": "python",
   "nbconvert_exporter": "python",
   "pygments_lexer": "ipython3",
   "version": "3.8.2"
  },
  "orig_nbformat": 4
 },
 "nbformat": 4,
 "nbformat_minor": 2
}
